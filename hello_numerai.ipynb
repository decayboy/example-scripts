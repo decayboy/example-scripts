{
  "cells": [
    {
      "cell_type": "markdown",
      "metadata": {
        "id": "suBex3vnr5GO"
      },
      "source": [
        "# Hello, Numerai"
      ]
    },
    {
      "cell_type": "markdown",
      "metadata": {
        "id": "k7VRkpptr5GR"
      },
      "source": [
        "Hello and welcome to the Numerai Data Science Tournament!\n",
        "\n",
        "This notebook is designed to help you build your first machine learning model and start competing the tournament.\n",
        "\n",
        "In this notebook we will\n",
        "1. Download and explore the Numerai dataset\n",
        "2. Train and evaluate your first machine learning model\n",
        "3. Deploy your model to start making live submissions"
      ]
    },
    {
      "cell_type": "code",
      "execution_count": 6,
      "metadata": {
        "colab": {
          "base_uri": "https://localhost:8080/"
        },
        "id": "gRGkuracAkoj",
        "outputId": "218cb999-defa-4c86-b7b8-2ec4cd80ae55"
      },
      "outputs": [
        {
          "output_type": "stream",
          "name": "stdout",
          "text": [
            "Python 3.12.11\n"
          ]
        }
      ],
      "source": [
        "!python --version"
      ]
    },
    {
      "cell_type": "markdown",
      "metadata": {
        "id": "YoeLNZTSr5GT"
      },
      "source": [
        "## 1. Dataset  \n",
        "\n",
        "At a high level, the Numerai dataset is a tabular dataset that describes the stock market over time. It is compiled from high-quality (and expensive) data that might be difficult for individuals to obtain.\n",
        "\n",
        "The unique thing about Numerai's dataset is that it is `obfuscated`, which means that the underlying stock ids, feature names, and target definitions are anonymized. This makes it so that we can give this data out for free and so that it can be modeled without any financial domain knowledge (or bias!)."
      ]
    },
    {
      "cell_type": "markdown",
      "metadata": {
        "id": "4ECU5uszr5GU"
      },
      "source": [
        "### Listing the datasets\n",
        "Firstly, take a look at the files Numerai offers below:"
      ]
    },
    {
      "cell_type": "code",
      "source": [
        "import pandas, pyarrow, lightgbm, sklearn\n",
        "print(pandas.__version__, pyarrow.__version__, lightgbm.__version__, sklearn.__version__)"
      ],
      "metadata": {
        "id": "BpODZ59Sq7ZI",
        "outputId": "08cd379e-2e4e-47e3-ac77-f5675210b57e",
        "colab": {
          "base_uri": "https://localhost:8080/"
        }
      },
      "execution_count": 2,
      "outputs": [
        {
          "output_type": "stream",
          "name": "stdout",
          "text": [
            "2.2.2 18.1.0 4.6.0 1.6.1\n"
          ]
        }
      ]
    },
    {
      "cell_type": "code",
      "source": [
        "!pip install numerapi --quiet\n",
        "from numerapi import NumerAPI\n",
        "DATA_VERSION = \"v5.0\""
      ],
      "metadata": {
        "id": "PeqmcXrjq84y"
      },
      "execution_count": 1,
      "outputs": []
    },
    {
      "cell_type": "code",
      "execution_count": 3,
      "metadata": {
        "colab": {
          "base_uri": "https://localhost:8080/"
        },
        "id": "4B4bbH07r5GU",
        "outputId": "5661a38d-3b56-4968-e744-21e944bed641"
      },
      "outputs": [
        {
          "output_type": "stream",
          "name": "stdout",
          "text": [
            "Available versions:\n",
            " ['v5.0']\n",
            "Available v5.0 files:\n",
            " ['v5.0/features.json', 'v5.0/live.parquet', 'v5.0/live_benchmark_models.parquet', 'v5.0/live_example_preds.csv', 'v5.0/live_example_preds.parquet', 'v5.0/meta_model.parquet', 'v5.0/train.parquet', 'v5.0/train_benchmark_models.parquet', 'v5.0/validation.parquet', 'v5.0/validation_benchmark_models.parquet', 'v5.0/validation_example_preds.csv', 'v5.0/validation_example_preds.parquet']\n"
          ]
        }
      ],
      "source": [
        "# Initialize NumerAPI - the official Python API client for Numerai\n",
        "from numerapi import NumerAPI\n",
        "napi = NumerAPI()\n",
        "\n",
        "# list the datasets and available versions\n",
        "all_datasets = napi.list_datasets()\n",
        "dataset_versions = list(set(d.split('/')[0] for d in all_datasets))\n",
        "print(\"Available versions:\\n\", dataset_versions)\n",
        "\n",
        "# Set data version to one of the latest datasets\n",
        "DATA_VERSION = \"v5.0\"\n",
        "\n",
        "# Print all files available for download for our version\n",
        "current_version_files = [f for f in all_datasets if f.startswith(DATA_VERSION)]\n",
        "print(\"Available\", DATA_VERSION, \"files:\\n\", current_version_files)"
      ]
    },
    {
      "cell_type": "code",
      "source": [
        "from numerapi import NumerAPI\n",
        "import pandas as pd\n",
        "import time, os\n",
        "\n",
        "DATA_VERSION = \"v5.0\"\n",
        "napi = NumerAPI()\n",
        "\n",
        "def dl(name, dest):\n",
        "    if os.path.exists(dest) and os.path.getsize(dest) > 0:\n",
        "        print(f\"✓ {dest} exists, skipping\")\n",
        "        return\n",
        "    print(f\"↓ Downloading {name} → {dest}\")\n",
        "    t = time.time()\n",
        "    napi.download_dataset(f\"{DATA_VERSION}/{name}\", dest)\n",
        "    print(f\"✓ {dest} in {time.time()-t:.1f}s, size={os.path.getsize(dest)/1e6:.1f} MB\")\n",
        "\n",
        "dl(\"train.parquet\", \"train.parquet\")\n",
        "dl(\"validation.parquet\", \"validation.parquet\")\n",
        "dl(\"live.parquet\", \"live.parquet\")\n",
        "\n",
        "!ls -lh *.parquet"
      ],
      "metadata": {
        "id": "S4B6WBdsrNrF",
        "outputId": "7969f73e-cdaf-469b-d847-0177074c242c",
        "colab": {
          "base_uri": "https://localhost:8080/"
        }
      },
      "execution_count": 5,
      "outputs": [
        {
          "output_type": "stream",
          "name": "stdout",
          "text": [
            "↓ Downloading train.parquet → train.parquet\n"
          ]
        },
        {
          "output_type": "stream",
          "name": "stderr",
          "text": [
            "train.parquet: 2.37GB [01:06, 35.7MB/s]                            \n"
          ]
        },
        {
          "output_type": "stream",
          "name": "stdout",
          "text": [
            "✓ train.parquet in 66.8s, size=2366.4 MB\n",
            "↓ Downloading validation.parquet → validation.parquet\n"
          ]
        },
        {
          "output_type": "stream",
          "name": "stderr",
          "text": [
            "validation.parquet: 3.53GB [02:26, 24.1MB/s]                            \n"
          ]
        },
        {
          "output_type": "stream",
          "name": "stdout",
          "text": [
            "✓ validation.parquet in 146.7s, size=3526.2 MB\n",
            "✓ live.parquet exists, skipping\n",
            "-rw-r--r-- 1 root root 8.1M Oct  7 17:18 live.parquet\n",
            "-rw-r--r-- 1 root root 2.3G Oct  7 17:23 train.parquet\n",
            "-rw-r--r-- 1 root root 3.3G Oct  7 17:26 validation.parquet\n"
          ]
        }
      ]
    },
    {
      "cell_type": "markdown",
      "metadata": {
        "id": "avIeXI5T9CC-"
      },
      "source": [
        "### Downloading datasets\n",
        "\n",
        "The `features.json` file contains metadata about features in the dataset including:\n",
        "- statistics on each feature\n",
        "- helpful sets of features\n",
        "- the targets available for training\n",
        "\n",
        "Let's download it and take a look:"
      ]
    },
    {
      "cell_type": "code",
      "execution_count": 7,
      "metadata": {
        "colab": {
          "base_uri": "https://localhost:8080/"
        },
        "id": "_Mldufeo9BKS",
        "outputId": "a81627a9-0d5a-401e-b84f-6d82f7713e1b"
      },
      "outputs": [
        {
          "output_type": "stream",
          "name": "stderr",
          "text": [
            "v5.0/features.json: 291kB [00:00, 2.50MB/s]                           "
          ]
        },
        {
          "output_type": "stream",
          "name": "stdout",
          "text": [
            "feature_sets 17\n",
            "targets 37\n"
          ]
        },
        {
          "output_type": "stream",
          "name": "stderr",
          "text": [
            "\n"
          ]
        }
      ],
      "source": [
        "import json\n",
        "\n",
        "# download the feature metadata file\n",
        "napi.download_dataset(f\"{DATA_VERSION}/features.json\")\n",
        "\n",
        "# read the metadata and display\n",
        "feature_metadata = json.load(open(f\"{DATA_VERSION}/features.json\"))\n",
        "for metadata in feature_metadata:\n",
        "  print(metadata, len(feature_metadata[metadata]))"
      ]
    },
    {
      "cell_type": "markdown",
      "metadata": {
        "id": "sESS7Wfs_pqz"
      },
      "source": [
        "### Feature Sets & Groups\n",
        "As you can see there are many features and targets to choose from.\n",
        "\n",
        "Instead of training a model on all 2000+ features, let's pick a subset of features to analyze.\n",
        "\n",
        "Here are a few starter sets Numerai offers:\n",
        "\n",
        "- `small` contains a minimal subset of features that have the highest [feature importance](https://scikit-learn.org/stable/auto_examples/ensemble/plot_forest_importances.html)\n",
        "\n",
        "- `medium` contains all the \"basic\" features, each unique in some way (e.g. P/E ratios vs analyst ratings)\n",
        "\n",
        "- `all` contains all features in `medium` and their variants (e.g. P/E by country vs P/E by sector)\n",
        "\n",
        "Let's take a look at the medium feature set:"
      ]
    },
    {
      "cell_type": "code",
      "execution_count": 8,
      "metadata": {
        "colab": {
          "base_uri": "https://localhost:8080/"
        },
        "id": "TeAzyU9q_dwR",
        "outputId": "68103625-aabf-4b71-adfa-ca26e6dcb827"
      },
      "outputs": [
        {
          "output_type": "stream",
          "name": "stdout",
          "text": [
            "medium 705\n"
          ]
        }
      ],
      "source": [
        "feature_sets = feature_metadata[\"feature_sets\"]\n",
        "for feature_set in [\"medium\"]:\n",
        "  print(feature_set, len(feature_metadata[\"feature_sets\"][feature_set]))"
      ]
    },
    {
      "cell_type": "markdown",
      "metadata": {
        "id": "h0-iMpdJAubs"
      },
      "source": [
        "\n",
        "The `medium` set seems much more reasonable.\n",
        "\n",
        "Using it will speed up model training and reduce memory usage (required for Colab free tier).\n",
        "\n",
        "Let's load the training data for just the medium feature set:"
      ]
    },
    {
      "cell_type": "code",
      "execution_count": 9,
      "metadata": {
        "colab": {
          "base_uri": "https://localhost:8080/"
        },
        "id": "UC5YkX1xr5GV",
        "outputId": "2a15f0b2-00c0-4bc1-9dc7-0155f838cd99"
      },
      "outputs": [
        {
          "output_type": "stream",
          "name": "stderr",
          "text": [
            "v5.0/train.parquet: 2.37GB [01:44, 22.7MB/s]                            \n"
          ]
        }
      ],
      "source": [
        "import pandas as pd\n",
        "\n",
        "# Define our feature set\n",
        "feature_set = feature_metadata[\"feature_sets\"][\"medium\"]\n",
        "# use \"medium\" or \"all\" for better performance. Requires more RAM.\n",
        "# features = feature_metadata[\"feature_sets\"][\"medium\"]\n",
        "# features = feature_metadata[\"feature_sets\"][\"all\"]\n",
        "\n",
        "# Download the training data - this will take a few minutes\n",
        "napi.download_dataset(f\"{DATA_VERSION}/train.parquet\")\n",
        "\n",
        "# Load only the \"medium\" feature set to\n",
        "# Use the \"all\" feature set to use all features\n",
        "train = pd.read_parquet(\n",
        "    f\"{DATA_VERSION}/train.parquet\",\n",
        "    columns=[\"era\", \"target\"] + feature_set\n",
        ")\n",
        "\n",
        "# Downsample to every 4th era to reduce memory usage and speedup model training (suggested for Colab free tier)\n",
        "# Comment out the line below to use all the data\n",
        "train = train[train[\"era\"].isin(train[\"era\"].unique()[::4])]"
      ]
    },
    {
      "cell_type": "code",
      "source": [
        "import lightgbm as lgb\n",
        "from scipy.stats import spearmanr\n",
        "\n",
        "FEATURE_COLS = feature_set\n",
        "TARGET_COL = \"target\"\n",
        "\n",
        "# Train a LightGBM model\n",
        "model = lgb.LGBMRegressor(\n",
        "    n_estimators=800,\n",
        "    learning_rate=0.02,\n",
        "    num_leaves=150,\n",
        "    subsample=0.9,\n",
        "    colsample_bytree=0.9,\n",
        "    reg_lambda=1.0,\n",
        "    random_state=42,\n",
        "    n_jobs=-1\n",
        ")\n",
        "\n",
        "model.fit(train[FEATURE_COLS], train[TARGET_COL])\n",
        "\n",
        "# Evaluate correlation\n",
        "valid = train.sample(frac=0.1, random_state=42)  # quick validation slice\n",
        "valid[\"prediction\"] = model.predict(valid[FEATURE_COLS])\n",
        "spearman = spearmanr(valid[\"prediction\"], valid[TARGET_COL]).correlation\n",
        "print(f\"Validation Spearman correlation: {spearman:.4f}\")\n"
      ],
      "metadata": {
        "id": "u7L0_mQuwfXY",
        "outputId": "cc03e370-0169-417f-b1ef-2af0d37568a1",
        "colab": {
          "base_uri": "https://localhost:8080/"
        }
      },
      "execution_count": 10,
      "outputs": [
        {
          "output_type": "stream",
          "name": "stdout",
          "text": [
            "[LightGBM] [Info] Auto-choosing row-wise multi-threading, the overhead of testing was 2.841164 seconds.\n",
            "You can set `force_row_wise=true` to remove the overhead.\n",
            "And if memory is not enough, you can set `force_col_wise=true`.\n",
            "[LightGBM] [Info] Total Bins 3525\n",
            "[LightGBM] [Info] Number of data points in the train set: 688184, number of used features: 705\n",
            "[LightGBM] [Info] Start training from score 0.500008\n",
            "Validation Spearman correlation: 0.5611\n"
          ]
        }
      ]
    },
    {
      "cell_type": "code",
      "source": [
        "from numerapi import NumerAPI\n",
        "import pandas as pd\n",
        "\n",
        "# Recreate API client if lost\n",
        "napi = NumerAPI()\n",
        "\n",
        "print(\"Loading live data...\")\n",
        "DATA_VERSION = \"v5.0\"\n",
        "napi.download_dataset(f\"{DATA_VERSION}/live.parquet\", \"live.parquet\")\n",
        "\n",
        "# Load and preview\n",
        "live = pd.read_parquet(\"live.parquet\")\n",
        "print(\"Columns:\", live.columns.tolist()[:10])  # show first few columns\n",
        "\n",
        "print(\"Generating predictions...\")\n",
        "live[\"prediction\"] = model.predict(live[feature_set])\n",
        "\n",
        "# Reset index to create a submission ID column\n",
        "live = live.reset_index().rename(columns={\"index\": \"id\"})\n",
        "\n",
        "# Save to CSV\n",
        "submission_file = \"submission.csv\"\n",
        "live[[\"id\", \"prediction\"]].to_csv(submission_file, index=False)\n",
        "print(f\"Submission file saved: {submission_file}\")\n"
      ],
      "metadata": {
        "id": "nViBoY8Yjam2",
        "outputId": "6a71b381-9ad8-4b48-dd17-ca790e8e4de9",
        "colab": {
          "base_uri": "https://localhost:8080/"
        }
      },
      "execution_count": 13,
      "outputs": [
        {
          "output_type": "stream",
          "name": "stdout",
          "text": [
            "Loading live data...\n",
            "Columns: ['era', 'data_type', 'feature_shaded_hallucinatory_dactylology', 'feature_itinerant_hexahedral_photoengraver', 'feature_prudent_pileate_oven', 'feature_subalpine_apothegmatical_ajax', 'feature_pistachio_atypical_malison', 'feature_symmetrical_spongy_tricentenary', 'feature_ungrounded_transpontine_winder', 'feature_aseptic_eely_hemiplegia']\n",
            "Generating predictions...\n",
            "Submission file saved: submission.csv\n"
          ]
        }
      ]
    },
    {
      "cell_type": "code",
      "source": [
        "!pip install -U numerapi\n",
        "\n",
        "from numerapi import NumerAPI\n",
        "\n",
        "# Authenticate directly\n",
        "napi = NumerAPI(\n",
        "    public_id=\"IED7ZEJLFHQ3EGAXRV44FI3HWAXQSUJH\",\n",
        "    secret_key=\"PMTGEOAPOB2NWJG5OTENXNY7F6HPNDGNGIDCY26GWQVJTW7AZTD54DF4VUNVVGPX\"\n",
        ")\n",
        "\n",
        "# Correct 2025 GraphQL query\n",
        "query = \"\"\"\n",
        "{\n",
        "  account {\n",
        "    id\n",
        "    models {\n",
        "      id\n",
        "      name\n",
        "      tournament\n",
        "    }\n",
        "  }\n",
        "}\n",
        "\"\"\"\n",
        "\n",
        "try:\n",
        "    result = napi.raw_query(query, authorization=True)\n",
        "    account = result[\"data\"][\"account\"]\n",
        "    print(\"Authenticated as:\", account[\"id\"])\n",
        "    print(\"Models on account:\")\n",
        "    for m in account[\"models\"]:\n",
        "        print(f\"- {m['name']} (ID: {m['id']}, Tournament: {m['tournament']})\")\n",
        "except Exception as e:\n",
        "    print(\"Authentication or query failed:\", e)"
      ],
      "metadata": {
        "colab": {
          "base_uri": "https://localhost:8080/"
        },
        "id": "aFFYPYGy84oL",
        "outputId": "e71886bd-2b3f-4ac4-a7b0-b4069b52d0f2"
      },
      "execution_count": 43,
      "outputs": [
        {
          "output_type": "stream",
          "name": "stdout",
          "text": [
            "Requirement already satisfied: numerapi in /usr/local/lib/python3.12/dist-packages (2.20.8)\n",
            "Requirement already satisfied: requests in /usr/local/lib/python3.12/dist-packages (from numerapi) (2.32.4)\n",
            "Requirement already satisfied: pytz in /usr/local/lib/python3.12/dist-packages (from numerapi) (2025.2)\n",
            "Requirement already satisfied: python-dateutil in /usr/local/lib/python3.12/dist-packages (from numerapi) (2.9.0.post0)\n",
            "Requirement already satisfied: tqdm>=4.29.1 in /usr/local/lib/python3.12/dist-packages (from numerapi) (4.67.1)\n",
            "Requirement already satisfied: click>=7.0 in /usr/local/lib/python3.12/dist-packages (from numerapi) (8.3.0)\n",
            "Requirement already satisfied: pandas>=1.1.0 in /usr/local/lib/python3.12/dist-packages (from numerapi) (2.2.2)\n",
            "Requirement already satisfied: numpy>=1.26.0 in /usr/local/lib/python3.12/dist-packages (from pandas>=1.1.0->numerapi) (2.0.2)\n",
            "Requirement already satisfied: tzdata>=2022.7 in /usr/local/lib/python3.12/dist-packages (from pandas>=1.1.0->numerapi) (2025.2)\n",
            "Requirement already satisfied: six>=1.5 in /usr/local/lib/python3.12/dist-packages (from python-dateutil->numerapi) (1.17.0)\n",
            "Requirement already satisfied: charset_normalizer<4,>=2 in /usr/local/lib/python3.12/dist-packages (from requests->numerapi) (3.4.3)\n",
            "Requirement already satisfied: idna<4,>=2.5 in /usr/local/lib/python3.12/dist-packages (from requests->numerapi) (3.10)\n",
            "Requirement already satisfied: urllib3<3,>=1.21.1 in /usr/local/lib/python3.12/dist-packages (from requests->numerapi) (2.5.0)\n",
            "Requirement already satisfied: certifi>=2017.4.17 in /usr/local/lib/python3.12/dist-packages (from requests->numerapi) (2025.8.3)\n",
            "Authenticated as: 7dde13f7-5956-4f03-a4bf-f87287fd9fdd\n",
            "Models on account:\n",
            "- decayboy (ID: 25fe44b5-951e-418a-b96d-7f035e1c2f93, Tournament: 8)\n",
            "- mod_1 (ID: 0587bb7e-bc56-44ae-82b6-d0afa94ac410, Tournament: 11)\n",
            "- itsathing (ID: 508904f7-6310-42b6-bb7d-94c4d3ea77c7, Tournament: 8)\n"
          ]
        }
      ]
    },
    {
      "cell_type": "code",
      "source": [
        "# --- Upload predictions to Numerai ---\n",
        "from numerapi import NumerAPI\n",
        "\n",
        "# Initialize authenticated client\n",
        "napi = NumerAPI(\n",
        "    public_id=\"IED7ZEJLFHQ3EGAXRV44FI3HWAXQSUJH\",\n",
        "    secret_key=\"PMTGEOAPOB2NWJG5OTENXNY7F6HPNDGNGIDCY26GWQVJTW7AZTD54DF4VUNVVGPX\"\n",
        ")\n",
        "\n",
        "# Choose model\n",
        "MODEL_ID = \"25fe44b5-951e-418a-b96d-7f035e1c2f93\"   # decayboy\n",
        "# MODEL_ID = \"508904f7-6310-42b6-bb7d-94c4d3ea77c7\"  # itsathing (optional)\n",
        "\n",
        "# Path to your predictions file\n",
        "SUBMISSION_FILE = \"submission.csv\"\n",
        "\n",
        "try:\n",
        "    print(f\"Uploading {SUBMISSION_FILE} to Numerai model {MODEL_ID} ...\")\n",
        "    result = napi.upload_predictions(SUBMISSION_FILE, model_id=MODEL_ID)\n",
        "    print(\"✅ Upload successful.\")\n",
        "    print(result)\n",
        "except Exception as e:\n",
        "    print(\"❌ Upload failed:\", e)\n"
      ],
      "metadata": {
        "id": "c9KAS11IC9uu",
        "outputId": "9de6d233-681c-4a5b-a8b2-fb8e9ddf5265",
        "colab": {
          "base_uri": "https://localhost:8080/"
        }
      },
      "execution_count": 49,
      "outputs": [
        {
          "output_type": "stream",
          "name": "stdout",
          "text": [
            "Uploading submission.csv to Numerai model 25fe44b5-951e-418a-b96d-7f035e1c2f93 ...\n",
            "✅ Upload successful.\n",
            "458942d0-d899-4677-8c21-8738547e7b49\n"
          ]
        }
      ]
    },
    {
      "cell_type": "markdown",
      "metadata": {
        "id": "jBcMKMX6FoNl"
      },
      "source": [
        "\n",
        "### Training data\n",
        "\n",
        "Each row represents a stock at a specific point in time:\n",
        "- `id` is the stock id\n",
        "- `era` is the date\n",
        "- `target` is a measure of future returns for that stock\n",
        "- `features` describe the attributes of the stock (eg. P/E ratio) for that date"
      ]
    },
    {
      "cell_type": "code",
      "execution_count": null,
      "metadata": {
        "id": "o9JOOMqpFscM"
      },
      "outputs": [],
      "source": [
        "train"
      ]
    },
    {
      "cell_type": "markdown",
      "metadata": {
        "id": "lSvdym9wr5GW"
      },
      "source": [
        "### Eras\n",
        "As mentioned above, each `era` corresponds to a different date. Each era is exactly 1 week apart.\n",
        "\n",
        "It is helpful to think about rows of stocks within the same `era` as a single example. You will notice that throughout this notebook and other examples, we often talk about things \"per era\". For example, the number of rows per era represents the number of stocks in Numerai's investable universe on that date."
      ]
    },
    {
      "cell_type": "code",
      "execution_count": null,
      "metadata": {
        "id": "7JX0Bs95r5GX"
      },
      "outputs": [],
      "source": [
        "# Plot the number of rows per era\n",
        "train.groupby(\"era\").size().plot(\n",
        "    title=\"Number of rows per era\",\n",
        "    figsize=(5, 3),\n",
        "    xlabel=\"Era\"\n",
        ")"
      ]
    },
    {
      "cell_type": "markdown",
      "metadata": {
        "id": "FxQCUEEPr5GZ"
      },
      "source": [
        "### Target\n",
        "The `target` is a measure of stock market returns over the next 20 (business) days. Specifically, it is a measure of \"stock-specific\" returns that are not explained by well-known \"factors\" or broader trends in the market, country, or sector. For example, if Apple went up and the tech sector also went up, we only want to know if Apple went up more or less than the tech sector.\n",
        "\n",
        "Target values are binned into 5 unequal bins: `0`, `0.25`, `0.5`, `0.75`, `1.0`. Again, this heavy regularization of target values is to avoid overfitting as the underlying values are extremely noisy."
      ]
    },
    {
      "cell_type": "code",
      "execution_count": null,
      "metadata": {
        "id": "8ALp0YQ6r5GZ"
      },
      "outputs": [],
      "source": [
        "# Plot density histogram of the target\n",
        "train[\"target\"].plot(\n",
        "  kind=\"hist\",\n",
        "  title=\"Target\",\n",
        "  figsize=(5, 3),\n",
        "  xlabel=\"Value\",\n",
        "  density=True,\n",
        "  bins=50\n",
        ")"
      ]
    },
    {
      "cell_type": "markdown",
      "metadata": {
        "id": "rhj9RZGNr5GX"
      },
      "source": [
        "### Features\n",
        "The `features` are quantitative attributes of each stock: fundamentals like P/E ratio, technical signals like RSI, market data like short interest, secondary data like analyst ratings, and much more.\n",
        "\n",
        "The underlying definition of each feature is not important, just know that Numerai has included these features in the dataset because we believe they are predictive of the `target` either by themselves or in combination with other features.\n",
        "\n",
        "Feature values are binned into 5 equal bins: `0`, `1`, `2`, `3`, `4`. This heavy regularization of feature values is to avoid overfitting as the underlying values are extremely noisy. Unlike the target, these are integers instead of floats to reduce the storage needs of the overall dataset.\n",
        "\n",
        "If data for a particular feature is missing for that era (more common in early `eras`), then all values will be set to `2`."
      ]
    },
    {
      "cell_type": "code",
      "execution_count": null,
      "metadata": {
        "id": "CHlSJccVr5GY"
      },
      "outputs": [],
      "source": [
        "import matplotlib.pyplot as plt\n",
        "fig, (ax1, ax2) = plt.subplots(1, 2, figsize=(10, 3))\n",
        "first_era = train[train[\"era\"] == train[\"era\"].unique()[0]]\n",
        "last_era = train[train[\"era\"] == train[\"era\"].unique()[-1]]\n",
        "last_era[feature_set[-1]].plot(\n",
        "   title=\"5 equal bins\",\n",
        "   kind=\"hist\",\n",
        "   density=True,\n",
        "   bins=50,\n",
        "   ax=ax1\n",
        ")\n",
        "first_era[feature_set[-1]].plot(\n",
        "   title=\"missing data\",\n",
        "   kind=\"hist\",\n",
        "   density=True,\n",
        "   bins=50,\n",
        "   ax=ax2\n",
        ")"
      ]
    },
    {
      "cell_type": "markdown",
      "metadata": {
        "id": "Eyn-0Or3r5GZ"
      },
      "source": [
        "## 2. Modeling\n",
        "At a high level, our task is to model and predict the `target` using the `features`.\n",
        "\n",
        "### Model training\n",
        "\n",
        "You are free to use any tool or framework, but here we will be using LGBMRegressor, a popular choice amongst tournament participants. While you wait for the model to train, watch this [video](https://www.youtube.com/watch?v=w8Y7hY05z7k) to learn why tree-based models work so well on tabular datasets from our Chief Scientist MDO."
      ]
    },
    {
      "cell_type": "code",
      "execution_count": null,
      "metadata": {
        "id": "prHdeg5Nr5GZ"
      },
      "outputs": [],
      "source": [
        "# https://lightgbm.readthedocs.io/en/latest/pythonapi/lightgbm.LGBMRegressor.html\n",
        "import lightgbm as lgb\n",
        "\n",
        "# https://lightgbm.readthedocs.io/en/latest/Parameters-Tuning.html\n",
        "model = lgb.LGBMRegressor(\n",
        "  n_estimators=2000,\n",
        "  learning_rate=0.01,\n",
        "  max_depth=5,\n",
        "  num_leaves=2**5-1,\n",
        "  colsample_bytree=0.1\n",
        ")\n",
        "# We've found the following \"deep\" parameters perform much better, but they require much more CPU and RAM\n",
        "# model = lgb.LGBMRegressor(\n",
        "#     n_estimators=30_000,\n",
        "#     learning_rate=0.001,\n",
        "#     max_depth=10,\n",
        "#     num_leaves=2**10,\n",
        "#     colsample_bytree=0.1\n",
        "#     min_data_in_leaf=10000,\n",
        "# )\n",
        "\n",
        "# This will take a few minutes 🍵\n",
        "model.fit(\n",
        "  train[feature_set],\n",
        "  train[\"target\"]\n",
        ")"
      ]
    },
    {
      "cell_type": "markdown",
      "metadata": {
        "id": "jTqgml-br5Ga"
      },
      "source": [
        "### Validation predictions\n",
        "\n",
        "Now let's make some out-of-sample predictions on the validation dataset to evaluate our model's performance."
      ]
    },
    {
      "cell_type": "code",
      "execution_count": null,
      "metadata": {
        "id": "ImonnvQYr5Ga"
      },
      "outputs": [],
      "source": [
        "# Download validation data - this will take a few minutes\n",
        "napi.download_dataset(f\"{DATA_VERSION}/validation.parquet\")\n",
        "\n",
        "# Load the validation data and filter for data_type == \"validation\"\n",
        "validation = pd.read_parquet(\n",
        "    f\"{DATA_VERSION}/validation.parquet\",\n",
        "    columns=[\"era\", \"data_type\", \"target\"] + feature_set\n",
        ")\n",
        "validation = validation[validation[\"data_type\"] == \"validation\"]\n",
        "del validation[\"data_type\"]\n",
        "\n",
        "# Downsample to every 4th era to reduce memory usage and speedup evaluation (suggested for Colab free tier)\n",
        "# Comment out the line below to use all the data (slower and higher memory usage, but more accurate evaluation)\n",
        "validation = validation[validation[\"era\"].isin(validation[\"era\"].unique()[::4])]\n",
        "\n",
        "# Eras are 1 week apart, but targets look 20 days (o 4 weeks/eras) into the future,\n",
        "# so we need to \"embargo\" the first 4 eras following our last train era to avoid \"data leakage\"\n",
        "last_train_era = int(train[\"era\"].unique()[-1])\n",
        "eras_to_embargo = [str(era).zfill(4) for era in [last_train_era + i for i in range(4)]]\n",
        "validation = validation[~validation[\"era\"].isin(eras_to_embargo)]\n",
        "\n",
        "# Generate predictions against the out-of-sample validation features\n",
        "# This will take a few minutes 🍵\n",
        "validation[\"prediction\"] = model.predict(validation[feature_set])\n",
        "validation[[\"era\", \"prediction\", \"target\"]]"
      ]
    },
    {
      "cell_type": "markdown",
      "metadata": {
        "id": "toGRSHN9r5Ga"
      },
      "source": [
        "### Performance evaluation\n",
        "\n",
        "Numerai calculates scores designed to \"align incentives\" between your model and the hedge fund - a model with good scores should help the hedge fund make good returns. The primary scoring metrics in Numerai are:\n",
        "\n",
        "- `CORR` (or \"Correlation\") which is calculated by the function `numerai_corr` - a Numerai specific variant of the Pearson Correlation between your model and the target.\n",
        "\n",
        "- `MMC` (or \"Meta Model Contribution\") which is a calculated by the function `correlation_contribution` - a measure of how uniquely additive your model is to the Numerai Meta Model.\n",
        "\n",
        "On the Numerai website you will see `CORR` referred to as `CORR20V2`, where the \"20\" refers to the 20-day return target and \"v2\" specifies that we are using the 2nd version of the scoring function."
      ]
    },
    {
      "cell_type": "code",
      "execution_count": null,
      "metadata": {
        "id": "lTdo3r_Kr5Ga"
      },
      "outputs": [],
      "source": [
        "# import the 2 scoring functions\n",
        "from numerai_tools.scoring import numerai_corr, correlation_contribution\n",
        "\n",
        "# Download and join in the meta_model for the validation eras\n",
        "napi.download_dataset(f\"v4.3/meta_model.parquet\", round_num=842)\n",
        "validation[\"meta_model\"] = pd.read_parquet(\n",
        "    f\"v4.3/meta_model.parquet\"\n",
        ")[\"numerai_meta_model\"]"
      ]
    },
    {
      "cell_type": "markdown",
      "metadata": {
        "id": "BX49Z_Lnr5Gb"
      },
      "source": [
        "As mentioned above, it is important for us to score each historical `era` independantly. So when evaluating the performance of our model, we should be looking at the \"per era\" metrics.\n",
        "\n",
        "One thing you may notice here is how low the scores are (in the range of +/- 0.05). This is very normal in the domain of quantitative finance and is part of the reason why we say Numerai is the \"hardest data science tournament\" in the world."
      ]
    },
    {
      "cell_type": "code",
      "execution_count": null,
      "metadata": {
        "id": "u_qnP9QVr5Gb"
      },
      "outputs": [],
      "source": [
        "# Compute the per-era corr between our predictions and the target values\n",
        "per_era_corr = validation.groupby(\"era\").apply(\n",
        "    lambda x: numerai_corr(x[[\"prediction\"]].dropna(), x[\"target\"].dropna())\n",
        ")\n",
        "\n",
        "# Compute the per-era mmc between our predictions, the meta model, and the target values\n",
        "per_era_mmc = validation.dropna().groupby(\"era\").apply(\n",
        "    lambda x: correlation_contribution(x[[\"prediction\"]], x[\"meta_model\"], x[\"target\"])\n",
        ")\n",
        "\n",
        "\n",
        "# Plot the per-era correlation\n",
        "per_era_corr.plot(\n",
        "  title=\"Validation CORR\",\n",
        "  kind=\"bar\",\n",
        "  figsize=(8, 4),\n",
        "  xticks=[],\n",
        "  legend=False,\n",
        "  snap=False\n",
        ")\n",
        "per_era_mmc.plot(\n",
        "  title=\"Validation MMC\",\n",
        "  kind=\"bar\",\n",
        "  figsize=(8, 4),\n",
        "  xticks=[],\n",
        "  legend=False,\n",
        "  snap=False\n",
        ")"
      ]
    },
    {
      "cell_type": "markdown",
      "metadata": {
        "id": "bAMEtbTFr5Gb"
      },
      "source": [
        "Instead of looking at the raw score for each era, it is helpful to look at the cumulative scores.\n",
        "\n",
        "If you are familiar with \"backtesting\" in quant finance where people simulate the historical performance of their investment strategies, you can roughly think of this plot as a backtest of your model performance over the historical validation period.\n",
        "\n",
        "Notice a few things below:\n",
        "\n",
        "- CORR gradually increases over many eras of the validation data even with this simple model on modern data.\n",
        "\n",
        "- MMC is generated over a smaller set of recent eras - this is because the validation time range pre-dates the Meta Model.\n",
        "\n",
        "- MMC is very high early on in the Meta Model's existence, MMC - this is because the newest datasets were not available and models trained on the newest data are could have been very additive in the past.\n",
        "\n",
        "- MMC is flat and decreasing recently because the Meta Model has started catching up to modern data sets and getting correlation has been difficult in recent eras."
      ]
    },
    {
      "cell_type": "code",
      "execution_count": null,
      "metadata": {
        "id": "T62k0nGpr5Gb"
      },
      "outputs": [],
      "source": [
        "# Plot the cumulative per-era correlation\n",
        "per_era_corr.cumsum().plot(\n",
        "  title=\"Cumulative Validation CORR\",\n",
        "  kind=\"line\",\n",
        "  figsize=(8, 4),\n",
        "  legend=False\n",
        ")\n",
        "per_era_mmc.cumsum().plot(\n",
        "  title=\"Cumulative Validation MMC\",\n",
        "  kind=\"line\",\n",
        "  figsize=(8, 4),\n",
        "  legend=False\n",
        ")"
      ]
    },
    {
      "cell_type": "markdown",
      "metadata": {
        "id": "VtW4n1jpr5Gc"
      },
      "source": [
        "### Performance metrics\n",
        "\n",
        "To evaluate the performance of our model, it is also helpful to compute some summary metrics over the entire validation period:\n",
        "\n",
        "- `Mean` is the primary measure of your model's long-term performance.\n",
        "\n",
        "- `Sharpe` is a measure of your model's consistency. In finance, the Sharpe ratio of an investment strategy measures risk adjusted returns. In Numerai, we compute sharpe as the mean divided by the standard deviation.\n",
        "\n",
        "- `Max drawdown` is a measure of your model's risk. In finance, the max drawdown of an investment strategy is the largest loss suffered. In Numerai, we compute max drawdown as the maximum peak to trough drop in a cumulative score."
      ]
    },
    {
      "cell_type": "code",
      "execution_count": null,
      "metadata": {
        "id": "0EXHy3M0r5Gc"
      },
      "outputs": [],
      "source": [
        "# Compute performance metrics\n",
        "corr_mean = per_era_corr.mean()\n",
        "corr_std = per_era_corr.std(ddof=0)\n",
        "corr_sharpe = corr_mean / corr_std\n",
        "corr_max_drawdown = (per_era_corr.cumsum().expanding(min_periods=1).max() - per_era_corr.cumsum()).max()\n",
        "\n",
        "mmc_mean = per_era_mmc.mean()\n",
        "mmc_std = per_era_mmc.std(ddof=0)\n",
        "mmc_sharpe = mmc_mean / mmc_std\n",
        "mmc_max_drawdown = (per_era_mmc.cumsum().expanding(min_periods=1).max() - per_era_mmc.cumsum()).max()\n",
        "\n",
        "pd.DataFrame({\n",
        "    \"mean\": [corr_mean, mmc_mean],\n",
        "    \"std\": [corr_std, mmc_std],\n",
        "    \"sharpe\": [corr_sharpe, mmc_sharpe],\n",
        "    \"max_drawdown\": [corr_max_drawdown, mmc_max_drawdown]\n",
        "}, index=[\"CORR\", \"MMC\"]).T"
      ]
    },
    {
      "cell_type": "markdown",
      "metadata": {
        "id": "7k973wHgr5Gc"
      },
      "source": [
        "These performance metrics above are not amazing but that's ok, we are just getting started. In the next few tutorials, you will learn how to improve our model performance."
      ]
    },
    {
      "cell_type": "markdown",
      "metadata": {
        "id": "5gC06mZ-r5Gc"
      },
      "source": [
        "## 3. Submissions\n",
        "\n",
        "Unlike Kaggle competitions that evalute models based on <ins>test</ins> performance, Numerai evaluates models based based on <ins>live</ins> performance.\n",
        "\n",
        "### Live predictions\n",
        "\n",
        "Every Tuesday-Saturday, new `live features` are released, which represent the current state of the stock market.\n",
        "\n",
        "Your task is to generate `live predictions` on the unknown target values, which represent stock market returns 20 days into the future."
      ]
    },
    {
      "cell_type": "code",
      "execution_count": null,
      "metadata": {
        "id": "yUEWmrdnr5Gc"
      },
      "outputs": [],
      "source": [
        "# Download latest live features\n",
        "napi.download_dataset(f\"{DATA_VERSION}/live.parquet\")\n",
        "\n",
        "# Load live features\n",
        "live_features = pd.read_parquet(f\"{DATA_VERSION}/live.parquet\", columns=feature_set)\n",
        "\n",
        "# Generate live predictions\n",
        "live_predictions = model.predict(live_features[feature_set])\n",
        "\n",
        "# Format submission\n",
        "pd.Series(live_predictions, index=live_features.index).to_frame(\"prediction\")"
      ]
    },
    {
      "cell_type": "markdown",
      "metadata": {
        "id": "JAsl2z7mr5Gd"
      },
      "source": [
        "### Model upload\n",
        "\n",
        "To participate in the tournament, you must submit live predictions every Tuesday-Saturday.\n",
        "\n",
        "To automate this process, you can simply:\n",
        "- Define your prediction pipeline as a function\n",
        "- Serialize your function using the `cloudpickle` library\n",
        "- Upload your model pickle file to Numerai\n",
        "- Let Numerai run your model to submit live predictions every day\n",
        "\n",
        "Read more about Model Uploads and other self-hosted automation options in our [docs](https://docs.numer.ai/numerai-tournament/submissions#automation).\n"
      ]
    },
    {
      "cell_type": "code",
      "execution_count": null,
      "metadata": {
        "id": "U4bHP_BGr5Gd"
      },
      "outputs": [],
      "source": [
        "# Define your prediction pipeline as a function\n",
        "def predict(live_features: pd.DataFrame, _live_benchmark_models: pd.DataFrame) -> pd.DataFrame:\n",
        "    live_predictions = model.predict(live_features[feature_set])\n",
        "    submission = pd.Series(live_predictions, index=live_features.index)\n",
        "    return submission.to_frame(\"prediction\")"
      ]
    },
    {
      "cell_type": "code",
      "execution_count": null,
      "metadata": {
        "id": "l442TN44r5Gd"
      },
      "outputs": [],
      "source": [
        "# Use the cloudpickle library to serialize your function\n",
        "import cloudpickle\n",
        "p = cloudpickle.dumps(predict)\n",
        "with open(\"hello_numerai.pkl\", \"wb\") as f:\n",
        "    f.write(p)"
      ]
    },
    {
      "cell_type": "code",
      "execution_count": null,
      "metadata": {
        "id": "IFUq_XpDr5Gd"
      },
      "outputs": [],
      "source": [
        "# Download file if running in Google Colab\n",
        "try:\n",
        "    from google.colab import files\n",
        "    files.download('hello_numerai.pkl')\n",
        "except:\n",
        "    pass"
      ]
    },
    {
      "cell_type": "markdown",
      "metadata": {
        "id": "iplRaPPLr5Gd"
      },
      "source": [
        "That's it! You now have a pickle file that is ready for upload.\n",
        "\n",
        "Head back to the [Hello Numerai Tutorial](https://numer.ai/tutorial/hello-numerai) to upload your model!"
      ]
    }
  ],
  "metadata": {
    "colab": {
      "provenance": []
    },
    "kernelspec": {
      "display_name": "3.11.13",
      "language": "python",
      "name": "python3"
    },
    "language_info": {
      "codemirror_mode": {
        "name": "ipython",
        "version": 3
      },
      "file_extension": ".py",
      "mimetype": "text/x-python",
      "name": "python",
      "nbconvert_exporter": "python",
      "pygments_lexer": "ipython3",
      "version": "3.11.13"
    }
  },
  "nbformat": 4,
  "nbformat_minor": 0
}